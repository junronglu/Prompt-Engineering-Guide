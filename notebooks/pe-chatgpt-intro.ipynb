{
  "cells": [
    {
      "cell_type": "markdown",
      "metadata": {
        "id": "view-in-github",
        "colab_type": "text"
      },
      "source": [
        "<a href=\"https://colab.research.google.com/github/junronglu/Prompt-Engineering-Guide/blob/main/notebooks/pe-chatgpt-intro.ipynb\" target=\"_parent\"><img src=\"https://colab.research.google.com/assets/colab-badge.svg\" alt=\"Open In Colab\"/></a>"
      ]
    },
    {
      "cell_type": "markdown",
      "metadata": {
        "id": "5YMIOuNv8KXi"
      },
      "source": [
        "## Introduction to The ChatGPT APIs"
      ]
    },
    {
      "cell_type": "markdown",
      "metadata": {
        "id": "cFWygVHO8KXl"
      },
      "source": [
        "Install or update the OpenAI Python library first"
      ]
    },
    {
      "cell_type": "code",
      "source": [
        "!pip install --upgrade python-dotenv"
      ],
      "metadata": {
        "id": "w216zXhwGGw2",
        "outputId": "aaff054b-5f01-48a2-853b-053fed50f98d",
        "colab": {
          "base_uri": "https://localhost:8080/"
        }
      },
      "execution_count": 5,
      "outputs": [
        {
          "output_type": "stream",
          "name": "stdout",
          "text": [
            "Collecting python-dotenv\n",
            "  Downloading python_dotenv-1.0.0-py3-none-any.whl (19 kB)\n",
            "Installing collected packages: python-dotenv\n",
            "Successfully installed python-dotenv-1.0.0\n"
          ]
        }
      ]
    },
    {
      "cell_type": "code",
      "source": [
        "import openai\n",
        "\n",
        "openai.api_base = \"https://api.chatanywhere.tech/v1\""
      ],
      "metadata": {
        "id": "BC_bdNLDAXTZ"
      },
      "execution_count": 3,
      "outputs": []
    },
    {
      "cell_type": "code",
      "execution_count": 1,
      "metadata": {
        "id": "IqAP3uay8KXl"
      },
      "outputs": [],
      "source": [
        "%%capture\n",
        "# update or install the necessary libraries\n",
        "\n",
        "!pip install openai==0.28.0\n"
      ]
    },
    {
      "cell_type": "code",
      "execution_count": 8,
      "metadata": {
        "id": "Ygk7a2Eo8KXm",
        "outputId": "cb3011f0-faa7-40a5-d2c2-a0f104ed3dc3",
        "colab": {
          "base_uri": "https://localhost:8080/"
        }
      },
      "outputs": [
        {
          "output_type": "stream",
          "name": "stdout",
          "text": [
            "sk-bm8YtexthuH2jkNhbPL89PBB5MOOUCypj5aV1iuIIohUT9OL\n"
          ]
        }
      ],
      "source": [
        "import os\n",
        "import IPython\n",
        "from dotenv import load_dotenv\n",
        "load_dotenv()\n",
        "openai.api_key = os.getenv(\"OPENAI_API_KEY\")\n",
        "print(openai.api_key)"
      ]
    },
    {
      "cell_type": "code",
      "source": [
        "from google.colab import drive\n",
        "drive.mount('/content/drive')"
      ],
      "metadata": {
        "id": "q-oJtBUF_iP4",
        "outputId": "94282726-8a15-4eca-e874-ea7f5c3aace5",
        "colab": {
          "base_uri": "https://localhost:8080/"
        }
      },
      "execution_count": 7,
      "outputs": [
        {
          "output_type": "stream",
          "name": "stdout",
          "text": [
            "Mounted at /content/drive\n"
          ]
        }
      ]
    },
    {
      "cell_type": "markdown",
      "metadata": {
        "id": "TmnY2czw8KXm"
      },
      "source": [
        "To load environment variables, you can use anything you like but I used `python-dotenv`. Just create a `.env` file with your `OPENAI_API_KEY` then load it."
      ]
    },
    {
      "cell_type": "markdown",
      "metadata": {
        "id": "CfVlgUCx8KXm"
      },
      "source": [
        "### Basic ChatGPT API Call"
      ]
    },
    {
      "cell_type": "markdown",
      "metadata": {
        "id": "0IsZ1Pu_8KXn"
      },
      "source": [
        "Let's do a basic chat API call to learn about the chat format:"
      ]
    },
    {
      "cell_type": "code",
      "execution_count": 9,
      "metadata": {
        "id": "Dd9WdQJe8KXn"
      },
      "outputs": [],
      "source": [
        "MODEL = \"gpt-3.5-turbo\"\n",
        "\n",
        "response = openai.ChatCompletion.create(\n",
        "    model=MODEL,\n",
        "    messages=[\n",
        "        {\"role\": \"system\", \"content\": \"You are an AI research assistant. You use a tone that is technical and scientific.\"},\n",
        "        {\"role\": \"user\", \"content\": \"Hello, who are you?\"},\n",
        "        {\"role\": \"assistant\", \"content\": \"Greeting! I am an AI research assistant. How can I help you today?\"},\n",
        "        {\"role\": \"user\", \"content\": \"Can you tell me about the creation of black holes?\"}\n",
        "    ],\n",
        "    temperature=0,\n",
        ")"
      ]
    },
    {
      "cell_type": "markdown",
      "metadata": {
        "id": "pEac6fxv8KXn"
      },
      "source": [
        "Let's print the response:"
      ]
    },
    {
      "cell_type": "code",
      "execution_count": 10,
      "metadata": {
        "id": "PKTO2lE58KXn",
        "outputId": "b62edf8b-5846-4267-b49d-d5fa71deb491",
        "colab": {
          "base_uri": "https://localhost:8080/",
          "height": 69
        }
      },
      "outputs": [
        {
          "output_type": "execute_result",
          "data": {
            "text/plain": [
              "\"Black holes are formed when massive stars collapse under their own gravity at the end of their life cycle. This collapse causes the star's core to become extremely dense, creating a gravitational pull so strong that not even light can escape from it. This results in the formation of a region of spacetime from which nothing, not even particles or electromagnetic radiation, can escape, known as the event horizon. The formation of black holes is a fascinating area of study in astrophysics and has significant implications for our understanding of the universe.\""
            ],
            "application/vnd.google.colaboratory.intrinsic+json": {
              "type": "string"
            }
          },
          "metadata": {},
          "execution_count": 10
        }
      ],
      "source": [
        "response.choices[0]['message']['content']"
      ]
    },
    {
      "cell_type": "code",
      "execution_count": 11,
      "metadata": {
        "id": "4t-puiug8KXo",
        "outputId": "61858c8b-9c94-44de-943a-2a429942510c",
        "colab": {
          "base_uri": "https://localhost:8080/",
          "height": 168
        }
      },
      "outputs": [
        {
          "output_type": "execute_result",
          "data": {
            "text/plain": [
              "<IPython.core.display.Markdown object>"
            ],
            "text/markdown": "Black holes are formed when massive stars collapse under their own gravity at the end of their life cycle. This collapse causes the star's core to become extremely dense, creating a gravitational pull so strong that not even light can escape from it. This results in the formation of a region of spacetime from which nothing, not even particles or electromagnetic radiation, can escape, known as the event horizon. The formation of black holes is a fascinating area of study in astrophysics and has significant implications for our understanding of the universe."
          },
          "metadata": {},
          "execution_count": 11
        }
      ],
      "source": [
        "# pretty format the response\n",
        "IPython.display.Markdown(response.choices[0]['message']['content'])"
      ]
    },
    {
      "cell_type": "markdown",
      "metadata": {
        "id": "vHnOagDs8KXo"
      },
      "source": [
        "### Non-Conversation Request"
      ]
    },
    {
      "cell_type": "markdown",
      "metadata": {
        "id": "JfgIEX3L8KXo"
      },
      "source": [
        "Let's try an example with a task that doesn't involve a conversation. Here's one way you can format it:"
      ]
    },
    {
      "cell_type": "code",
      "execution_count": 13,
      "metadata": {
        "id": "q7APDL1w8KXo",
        "outputId": "f868d8ed-48c9-4dde-efa7-15dbd1a32c5a",
        "colab": {
          "base_uri": "https://localhost:8080/"
        }
      },
      "outputs": [
        {
          "output_type": "stream",
          "name": "stdout",
          "text": [
            "Mice.\n"
          ]
        }
      ],
      "source": [
        "CONTENT = \"\"\"Answer the question based on the context below. Keep the answer short and concise. Respond \\\"Unsure about answer\\\" if not sure about the answer.\n",
        "\n",
        "Context: Teplizumab traces its roots to a New Jersey drug company called Ortho Pharmaceutical. There, scientists generated an early version of the antibody, dubbed OKT3. Originally sourced from mice, the molecule was able to bind to the surface of T cells and limit their cell-killing potential. In 1986, it was approved to help prevent organ rejection after kidney transplants, making it the first therapeutic antibody allowed for human use.\n",
        "\n",
        "Question: What was OKT3 originally sourced from?\n",
        "\n",
        "Answer:\n",
        "\"\"\"\n",
        "\n",
        "response = openai.ChatCompletion.create(\n",
        "    model=MODEL,\n",
        "    messages=[\n",
        "        {\"role\": \"user\", \"content\": CONTENT},\n",
        "    ],\n",
        "    temperature=0,\n",
        ")\n",
        "\n",
        "print(response['choices'][0]['message']['content'])"
      ]
    }
  ],
  "metadata": {
    "kernelspec": {
      "display_name": "promptlecture",
      "language": "python",
      "name": "python3"
    },
    "language_info": {
      "codemirror_mode": {
        "name": "ipython",
        "version": 3
      },
      "file_extension": ".py",
      "mimetype": "text/x-python",
      "name": "python",
      "nbconvert_exporter": "python",
      "pygments_lexer": "ipython3",
      "version": "3.9.16"
    },
    "orig_nbformat": 4,
    "vscode": {
      "interpreter": {
        "hash": "f38e0373277d6f71ee44ee8fea5f1d408ad6999fda15d538a69a99a1665a839d"
      }
    },
    "colab": {
      "provenance": [],
      "include_colab_link": true
    }
  },
  "nbformat": 4,
  "nbformat_minor": 0
}